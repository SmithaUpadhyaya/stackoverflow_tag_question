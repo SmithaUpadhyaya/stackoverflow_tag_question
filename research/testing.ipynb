{
 "cells": [
  {
   "cell_type": "code",
   "execution_count": 1,
   "metadata": {},
   "outputs": [
    {
     "name": "stdout",
     "output_type": "stream",
     "text": [
      "[2023-11-22 15:56:48,890: INFO: common: yaml file: F:\\github_workspace\\stackoverflow_tag_question\\config\\config.yaml loaded successfully]\n",
      "[2023-11-22 15:56:48,963: INFO: common: yaml file: F:\\github_workspace\\stackoverflow_tag_question\\params.yaml loaded successfully]\n",
      "[2023-11-22 15:56:48,980: INFO: common: yaml file: F:\\github_workspace\\stackoverflow_tag_question\\schema.yaml loaded successfully]\n"
     ]
    }
   ],
   "source": [
    "from src.config.configuration import ConfigurationManager\n",
    "\n",
    "config = ConfigurationManager(notebook_artifacts = True) #all the artifacts generated from notebook are stored in seperate notebook folder only\n",
    "jupiter_notebook_config = config.get_notebook_data_config()"
   ]
  },
  {
   "cell_type": "code",
   "execution_count": null,
   "metadata": {},
   "outputs": [],
   "source": [
    "from src.entity.wrd_embed_glove import WordEmbGlove\n",
    "\n",
    "word_embed_config = config.get_word_emb_config()\n",
    "#word_embed_config\n",
    "\n",
    "word_embed_obj = WordEmbGlove(Config = word_embed_config)\n",
    "#word_embed_obj.download_glove_embed()\n",
    "#word_embed_obj.get_glove_embed_file(200)\n",
    "#word_embed_obj.read_glove_word_embed(200)\n"
   ]
  },
  {
   "cell_type": "code",
   "execution_count": 2,
   "metadata": {},
   "outputs": [
    {
     "name": "stdout",
     "output_type": "stream",
     "text": [
      "[2023-08-25 15:05:04,692: INFO: path_utils: Created directory at: F:\\github_workspace\\stackoverflow_tag_question\\artifacts\\data_ingestion]\n",
      "[2023-08-25 15:05:04,697: INFO: data_ingestion: [unzip_db]: Unzip datafile: [F:\\github_workspace\\stackoverflow_tag_question\\artifacts\\data_ingestion\\stackoverflow-moderation.zip]...]\n",
      "[2023-08-25 15:05:06,592: INFO: data_ingestion: [unzip_db]: Extacted sucessfully...]\n"
     ]
    }
   ],
   "source": [
    "from src.entity.data_ingestion import DataIngestion\n",
    "\n",
    "data_ingestion_config = config.get_data_ingestion_config()\n",
    "data_ingestion_obj = DataIngestion(Config = data_ingestion_config)\n",
    "#data_ingestion_obj.unzip_db()\n",
    "#data_ingestion_obj.combine_train_test_dbset()"
   ]
  },
  {
   "cell_type": "code",
   "execution_count": 2,
   "metadata": {},
   "outputs": [
    {
     "name": "stdout",
     "output_type": "stream",
     "text": [
      "[2023-08-28 11:40:26,705: INFO: data_validation: [validate_all_columns]: Validation of features started...]\n",
      "[2023-08-28 11:40:27,636: INFO: data_validation: [validate_all_columns]: Validation failed. Refer [F:\\github_workspace\\stackoverflow_tag_question\\artifacts\\notebook\\validation_status.txt] for the list of issues...]\n",
      "[2023-08-28 11:40:27,638: INFO: data_validation: [validate_all_columns]: Validation of features completed...]\n"
     ]
    },
    {
     "data": {
      "text/plain": [
       "False"
      ]
     },
     "execution_count": 2,
     "metadata": {},
     "output_type": "execute_result"
    }
   ],
   "source": [
    "from src.entity.data_validation import DataValidation\n",
    "\n",
    "data_validation_config = config.get_data_validation_config()\n",
    "data_ingestion_config = config.get_data_ingestion_config()\n",
    "\n",
    "data_validation_obj = DataValidation(Config = data_validation_config, \n",
    "                                     Data_Config = data_ingestion_config,\n",
    "                                    )\n",
    "\n",
    "data_validation_obj.validate_all_columns()\n"
   ]
  },
  {
   "cell_type": "code",
   "execution_count": 2,
   "metadata": {},
   "outputs": [
    {
     "name": "stdout",
     "output_type": "stream",
     "text": [
      "[2023-08-28 17:22:02,465: INFO: data_cleaning: [load_data]: Loading data: [F:\\github_workspace\\stackoverflow_tag_question\\artifacts\\notebook\\SO_Tag_prediction.parquet] started ...]\n",
      "[2023-08-28 17:22:03,030: INFO: data_cleaning: [load_data]: Loading data completed ...]\n",
      "[2023-08-28 17:22:03,032: INFO: data_cleaning: [cleaning]: Work with selected columns...]\n",
      "[2023-08-28 17:22:03,068: INFO: data_cleaning: [cleaning]: Droping records where all value are null...]\n",
      "[2023-08-28 17:22:03,158: INFO: data_cleaning: [cleaning]: Droping records where all values are null in the Tags columns...]\n",
      "[2023-08-28 17:22:03,282: INFO: data_cleaning: [cleaning]: Droping records where title and body is blank...]\n",
      "[2023-08-28 17:22:05,560: INFO: data_cleaning: [cleaning]: Fill tags with nan values as blank...]\n",
      "[2023-08-28 17:22:05,601: INFO: data_cleaning: [cleaning]: Combine multiple tag features in to single feature...]\n"
     ]
    }
   ],
   "source": [
    "from src.entity.data_cleaning import DataCleaning\n",
    "\n",
    "data_cleaning_config = config.get_data_cleaning_config()\n",
    "data_ingestion_config = config.get_data_ingestion_config()\n",
    "\n",
    "data_cleaning_obj = DataCleaning(Config = data_cleaning_config, \n",
    "                                 Data_Config = data_ingestion_config,\n",
    "                                )\n",
    "\n",
    "data_cleaning_obj.cleaning()"
   ]
  },
  {
   "cell_type": "code",
   "execution_count": 2,
   "metadata": {},
   "outputs": [
    {
     "data": {
      "text/plain": [
       "ModelTrainingConfig(artifacts_dir='artifacts', root_dir='model_trainer', checkpoint_dir='model_trainer\\\\checkpoints', train_log_dir='model_trainer\\\\training_logs', serialize_objects_dir='model_trainer\\\\serialize_objects', log_filename_format='logs_hparam_lr{}_units{}_dropout{}_batchsize{}_epoch{}')"
      ]
     },
     "execution_count": 2,
     "metadata": {},
     "output_type": "execute_result"
    }
   ],
   "source": [
    "#Configuration for model artifacts\n",
    "\n",
    "model_artifacts = config.get_model_artifacts_config()\n",
    "\n",
    "model_artifacts"
   ]
  }
 ],
 "metadata": {
  "interpreter": {
   "hash": "f22623e58051c7bd3801d733fbe94b3fa3199d3a48481c264d0b15e70572f7d5"
  },
  "kernelspec": {
   "display_name": "Python 3.9.8 ('.env': venv)",
   "language": "python",
   "name": "python3"
  },
  "language_info": {
   "codemirror_mode": {
    "name": "ipython",
    "version": 3
   },
   "file_extension": ".py",
   "mimetype": "text/x-python",
   "name": "python",
   "nbconvert_exporter": "python",
   "pygments_lexer": "ipython3",
   "version": "3.9.8"
  },
  "orig_nbformat": 4
 },
 "nbformat": 4,
 "nbformat_minor": 2
}
